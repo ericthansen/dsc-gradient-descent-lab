{
 "cells": [
  {
   "cell_type": "markdown",
   "metadata": {},
   "source": [
    "# Gradient Descent - Lab\n",
    "\n",
    "## Introduction\n",
    "\n",
    "In this lab, you'll continue to formalize your knowledge of gradient descent by coding the algorithm yourself. In the upcoming labs, you'll apply similar procedures to implement logistic regression on your own.\n",
    "\n",
    "\n",
    "## Objectives\n",
    "\n",
    "In this lab you will: \n",
    "\n",
    "\n",
    "- Implement gradient descent from scratch to minimize OLS\n"
   ]
  },
  {
   "cell_type": "markdown",
   "metadata": {},
   "source": [
    "## Use gradient descent to minimize OLS\n",
    "\n",
    "To practice gradient descent, you'll investigate a simple regression case in which you're looking to minimize the Residual Sum of Squares (RSS) between the predictions and the actual values. Remember that this is referred to as Ordinary Least Squares (OLS) regression. You'll compare two simplistic models and use gradient descent to improve upon these initial models.\n",
    "\n",
    "\n",
    "## Load the dataset\n",
    "\n",
    "- Import the file `'movie_data.xlsx'` using Pandas \n",
    "- Print the first five rows of the data \n",
    "\n",
    "> You can use the `read_excel()` function to import an Excel file. "
   ]
  },
  {
   "cell_type": "code",
   "execution_count": 1,
   "metadata": {},
   "outputs": [
    {
     "data": {
      "text/html": [
       "<div>\n",
       "<style scoped>\n",
       "    .dataframe tbody tr th:only-of-type {\n",
       "        vertical-align: middle;\n",
       "    }\n",
       "\n",
       "    .dataframe tbody tr th {\n",
       "        vertical-align: top;\n",
       "    }\n",
       "\n",
       "    .dataframe thead th {\n",
       "        text-align: right;\n",
       "    }\n",
       "</style>\n",
       "<table border=\"1\" class=\"dataframe\">\n",
       "  <thead>\n",
       "    <tr style=\"text-align: right;\">\n",
       "      <th></th>\n",
       "      <th>budget</th>\n",
       "      <th>domgross</th>\n",
       "      <th>title</th>\n",
       "    </tr>\n",
       "  </thead>\n",
       "  <tbody>\n",
       "    <tr>\n",
       "      <th>0</th>\n",
       "      <td>13000000</td>\n",
       "      <td>25682380</td>\n",
       "      <td>21 &amp;amp; Over</td>\n",
       "    </tr>\n",
       "    <tr>\n",
       "      <th>1</th>\n",
       "      <td>45658735</td>\n",
       "      <td>13414714</td>\n",
       "      <td>Dredd 3D</td>\n",
       "    </tr>\n",
       "    <tr>\n",
       "      <th>2</th>\n",
       "      <td>20000000</td>\n",
       "      <td>53107035</td>\n",
       "      <td>12 Years a Slave</td>\n",
       "    </tr>\n",
       "    <tr>\n",
       "      <th>3</th>\n",
       "      <td>61000000</td>\n",
       "      <td>75612460</td>\n",
       "      <td>2 Guns</td>\n",
       "    </tr>\n",
       "    <tr>\n",
       "      <th>4</th>\n",
       "      <td>40000000</td>\n",
       "      <td>95020213</td>\n",
       "      <td>42</td>\n",
       "    </tr>\n",
       "  </tbody>\n",
       "</table>\n",
       "</div>"
      ],
      "text/plain": [
       "     budget  domgross             title\n",
       "0  13000000  25682380     21 &amp; Over\n",
       "1  45658735  13414714          Dredd 3D\n",
       "2  20000000  53107035  12 Years a Slave\n",
       "3  61000000  75612460            2 Guns\n",
       "4  40000000  95020213                42"
      ]
     },
     "execution_count": 1,
     "metadata": {},
     "output_type": "execute_result"
    }
   ],
   "source": [
    "# Import the data\n",
    "import pandas as pd\n",
    "df = pd.read_excel('movie_data.xlsx')\n",
    "\n",
    "# Print the first five rows of the data\n",
    "df.head()"
   ]
  },
  {
   "cell_type": "markdown",
   "metadata": {},
   "source": [
    "## Two simplistic models\n",
    "\n",
    "Imagine someone is attempting to predict the domestic gross sales of a movie based on the movie's budget, or at least further investigate how these two quantities are related. Two models are suggested and need to be compared.  \n",
    "The two models are:  \n",
    "\n",
    "$\\text{domgross} = 1.575 \\cdot \\text{budget}$  \n",
    "$\\text{domgross} = 1.331 \\cdot \\text{budget}$  \n",
    "\n",
    "\n",
    "Here's a graph of the two models along with the actual data:"
   ]
  },
  {
   "cell_type": "code",
   "execution_count": 2,
   "metadata": {},
   "outputs": [
    {
     "data": {
      "image/png": "[encoded data removed]",
      "text/plain": [
       "<Figure size 432x288 with 1 Axes>"
      ]
     },
     "metadata": {
      "needs_background": "light"
     },
     "output_type": "display_data"
    }
   ],
   "source": [
    "import numpy as np\n",
    "import matplotlib.pyplot as plt\n",
    "%matplotlib inline\n",
    "\n",
    "x = np.linspace(start=df['budget'].min(), stop=df['budget'].max(), num=10**5)\n",
    "plt.scatter(x, 1.575*x, label='Mean Ratio Model') # Model 1\n",
    "plt.scatter(x, 1.331*x, label='Median Ratio Model') # Model 2\n",
    "plt.scatter(df['budget'], df['domgross'], label='Actual Data Points')\n",
    "plt.title('Gross Domestic Sales vs. Budget', fontsize=18)\n",
    "plt.xlabel('Budget', fontsize=16)\n",
    "plt.ylabel('Gross Domestic Sales', fontsize=16)\n",
    "plt.legend(bbox_to_anchor=(1, 1))\n",
    "plt.show()"
   ]
  },
  {
   "cell_type": "markdown",
   "metadata": {},
   "source": [
    "## Error/Loss functions\n",
    "\n",
    "To compare the two models (and future ones), a metric for evaluating and comparing models to each other is needed. Traditionally, this is the residual sum of squares. As such you are looking to minimize  $ \\sum(\\hat{y}-y)^2$.\n",
    "Write a function `rss()` which calculates the residual sum of squares for a simplistic model: \n",
    "\n",
    "$\\text{domgross} = m \\cdot \\text{budget}$ "
   ]
  },
  {
   "cell_type": "code",
   "execution_count": 7,
   "metadata": {},
   "outputs": [],
   "source": [
    "def rss(m, X=df['budget'], y=df['domgross']):\n",
    "    y_hat = m*X\n",
    "    rt = 0\n",
    "    for i in range(len(y)):\n",
    "        rt += (y_hat[i]-y[i])**2\n",
    "    return rt"
   ]
  },
  {
   "cell_type": "markdown",
   "metadata": {},
   "source": [
    "## Find the RSS for the two models\n",
    "Which of the two models is better?"
   ]
  },
  {
   "cell_type": "code",
   "execution_count": 10,
   "metadata": {},
   "outputs": [
    {
     "name": "stdout",
     "output_type": "stream",
     "text": [
      "2.7614512142376128e+17\n",
      "2.3547212057814554e+17\n"
     ]
    },
    {
     "data": {
      "text/plain": [
       "0.17272958151373885"
      ]
     },
     "execution_count": 10,
     "metadata": {},
     "output_type": "execute_result"
    }
   ],
   "source": [
    "# Your code here\n",
    "mlist = [1.575, 1.331]\n",
    "mdic = {}\n",
    "for m in mlist:\n",
    "    rss_score = rss(m)\n",
    "    mdic[m] = rss_score\n",
    "    print(rss_score)\n",
    "mdic[mlist[0]]/mdic[mlist[1]]-1"
   ]
  },
  {
   "cell_type": "code",
   "execution_count": null,
   "metadata": {},
   "outputs": [],
   "source": [
    "# Your response here\n",
    "#the second one has somewhat lower m.  The first one is about 17% higher.  Both are extremely high though."
   ]
  },
  {
   "cell_type": "markdown",
   "metadata": {},
   "source": [
    "## Gradient descent\n",
    "\n",
    "Now that you have a loss function, you can use numerical methods to find a minimum to the loss function. By minimizing the loss function, you have achieved an optimal solution according to the problem formulation. Here's the outline of gradient descent from the previous lesson:  \n",
    "\n",
    "1. Define initial parameters:\n",
    "    1. pick a starting point\n",
    "    2. pick a step size $\\alpha$ (alpha)\n",
    "    3. choose a maximum number of iterations; the algorithm will terminate after this many iterations if a minimum has yet to be found\n",
    "    4. (optionally) define a precision parameter; similar to the maximum number of iterations, this will terminate the algorithm early. For example, one might define a precision parameter of 0.00001, in which case if the change in the loss function were less than 0.00001, the algorithm would terminate. The idea is that we are very close to the bottom and further iterations would make a negligible difference \n",
    "2. Calculate the gradient at the current point (initially, the starting point)\n",
    "3. Take a step (of size alpha) in the direction of the gradient\n",
    "4. Repeat steps 2 and 3 until the maximum number of iterations is met, or the difference between two points is less then your precision parameter  \n",
    "\n",
    "To start, visualize the cost function. Plot the cost function output for a range of m values from -3 to 5."
   ]
  },
  {
   "cell_type": "code",
   "execution_count": 24,
   "metadata": {},
   "outputs": [
    {
     "name": "stdout",
     "output_type": "stream",
     "text": [
      "RSS for -3.0: 3.8851602875095327e+18\n",
      "-------------------------------------------------------\n",
      "RSS for -2.5: 3.0411988364639555e+18\n",
      "-------------------------------------------------------\n",
      "RSS for -2.0: 2.3075523704592783e+18\n",
      "-------------------------------------------------------\n",
      "RSS for -1.5: 1.6842208894955008e+18\n",
      "-------------------------------------------------------\n",
      "RSS for -1.0: 1.171204393572624e+18\n",
      "-------------------------------------------------------\n",
      "RSS for -0.5: 7.685028826906468e+17\n",
      "-------------------------------------------------------\n",
      "RSS for 0.0: 4.7611635684956986e+17\n",
      "-------------------------------------------------------\n",
      "RSS for 0.5: 2.940448160493932e+17\n",
      "-------------------------------------------------------\n",
      "RSS for 1.0: 2.2228826029011658e+17\n",
      "-------------------------------------------------------\n",
      "RSS for 1.5: 2.6084668957174006e+17\n",
      "-------------------------------------------------------\n",
      "RSS for 2.0: 4.0972010389426374e+17\n",
      "-------------------------------------------------------\n",
      "RSS for 2.5: 6.689085032576874e+17\n",
      "-------------------------------------------------------\n",
      "RSS for 3.0: 1.038411887662011e+18\n",
      "-------------------------------------------------------\n",
      "RSS for 3.5: 1.518230257107235e+18\n",
      "-------------------------------------------------------\n",
      "RSS for 4.0: 2.108363611593359e+18\n",
      "-------------------------------------------------------\n",
      "RSS for 4.5: 2.808811951120383e+18\n",
      "-------------------------------------------------------\n",
      "RSS for 5.0: 3.619575275688307e+18\n",
      "-------------------------------------------------------\n"
     ]
    },
    {
     "data": {
      "image/png": "[encoded data removed]",
      "text/plain": [
       "<Figure size 720x576 with 1 Axes>"
      ]
     },
     "metadata": {
      "needs_background": "light"
     },
     "output_type": "display_data"
    }
   ],
   "source": [
    "### Your code here\n",
    "import matplotlib.pyplot as plt\n",
    "import seaborn as sns\n",
    "sns.set_style('darkgrid')\n",
    "%matplotlib inline\n",
    "\n",
    "\n",
    "ms = [m/2 for m in range(-6,11,1)]\n",
    "names = [m/2 for m in range(-6,11,1)]\n",
    "colors = sns.color_palette(n_colors = len(ms))\n",
    "plt.figure(figsize=(10, 8))\n",
    "\n",
    "for n, m in enumerate(ms):\n",
    "    \n",
    "    rss_score = rss(m)\n",
    "    print('RSS for {}: {}'.format(names[n], rss_score))\n",
    "    print('-------------------------------------------------------')\n",
    "    lw = 2\n",
    "    plt.scatter(m, rss_score, color=colors[n],\n",
    "             lw=lw, label='RSS Score by slope m: {}'.format(names[n]))\n",
    "plt.show()"
   ]
  },
  {
   "cell_type": "markdown",
   "metadata": {},
   "source": [
    "As you can see, this is a simple cost function. The minimum is clearly around 1. With that, it's time to implement gradient descent in order to find the optimal value for m."
   ]
  },
  {
   "cell_type": "code",
   "execution_count": 51,
   "metadata": {},
   "outputs": [
    {
     "name": "stdout",
     "output_type": "stream",
     "text": [
      "iter:0, gradient: 8334575.665792048, alpha*grad:-0.08334575665792048, xcur:3\n",
      "iter:10, gradient: 7056984.048484445, alpha*grad:-0.07056984048484445, xcur:2.214450428572394\n",
      "iter:20, gradient: 4466855.8961491585, alpha*grad:-0.044668558961491585, xcur:1.6163178509558616\n",
      "iter:30, gradient: 1982200.9738714397, alpha*grad:-0.019822009738714397, xcur:1.2913376800857344\n",
      "iter:40, gradient: 763199.165276587, alpha*grad:-0.00763199165276587, xcur:1.1568371371349861\n",
      "iter:50, gradient: 286190.667052716, alpha*grad:-0.0028619066705271603, xcur:1.1057477933059336\n",
      "iter:60, gradient: 106903.96401101351, alpha*grad:-0.0010690396401101352, xcur:1.0866281378346865\n",
      "iter:70, gradient: 39911.35528507829, alpha*grad:-0.0003991135528507829, xcur:1.0794881664697493\n",
      "iter:80, gradient: 14899.313769638538, alpha*grad:-0.0001489931376963854, xcur:1.0768226453713623\n",
      "iter:90, gradient: 5562.006278544664, alpha*grad:-5.562006278544665e-05, xcur:1.0758275847402958\n",
      "iter:100, gradient: 2076.3284024596214, alpha*grad:-2.0763284024596215e-05, xcur:1.075456122715123\n",
      "iter:110, gradient: 775.1049774587154, alpha*grad:-7.751049774587154e-06, xcur:1.0753174538548445\n",
      "iter:120, gradient: 289.35100454092026, alpha*grad:-2.8935100454092027e-06, xcur:1.0752656879963638\n",
      "iter:130, gradient: 108.01634094119072, alpha*grad:-1.0801634094119072e-06, xcur:1.0752463635131575\n",
      "iter:140, gradient: 40.32310140132904, alpha*grad:-4.032310140132904e-07, xcur:1.075239149575993\n",
      "iter:150, gradient: 15.052838236093521, alpha*grad:-1.505283823609352e-07, xcur:1.075236456573088\n",
      "The local minimum occurs at 1.0752357405668542\n"
     ]
    }
   ],
   "source": [
    "# Set a starting point\n",
    "cur_x = -3\n",
    "\n",
    "# Initialize a step size\n",
    "alpha = 10**-8\n",
    "\n",
    "# Initialize a precision\n",
    "precision = 0.0000001 \n",
    "\n",
    "# Helpful initialization\n",
    "previous_step_size = 1 \n",
    "\n",
    "# Maximum number of iterations\n",
    "max_iters = 10000 \n",
    "\n",
    "# Iteration counter\n",
    "iters = 0 \n",
    "\n",
    "# Create a loop to iterate through the algorithm until either the max_iteration or precision conditions is met\n",
    "# Your code here; create a loop as described above\n",
    "for i in range(max_iters):\n",
    "    # Calculate the gradient. This is often done by hand to reduce computational complexity.\n",
    "    # For here, generate points surrounding your current state, then calculate the rss of these points\n",
    "    # Finally, use the np.gradient() method on this survey region. \n",
    "    # This code is provided here to ease this portion of the algorithm implementation\n",
    "    x_survey_region = np.linspace(start = cur_x - previous_step_size , stop = cur_x + previous_step_size , num = 101)\n",
    "    rss_survey_region = [np.sqrt(rss(m)) for m in x_survey_region]\n",
    "    gradient = np.gradient(rss_survey_region)[50] \n",
    "\n",
    "    if i % 10 == 0:\n",
    "        print('iter:{}, gradient: {}, alpha*grad:{}, xcur:{}'.format(i, gradient, -gradient*alpha, cur_x))\n",
    "    \n",
    "    # Update the current x, by taking an \"alpha sized\" step in the direction of the gradient\n",
    "    cur_x +=  - alpha * gradient\n",
    "    # Update the iteration number\n",
    "    iters +=1\n",
    "    if abs(alpha * gradient) < precision:\n",
    "        break\n",
    "# The output for the above will be: ('The local minimum occurs at', 1.1124498053361267)    \n",
    "print(\"The local minimum occurs at\", cur_x)"
   ]
  },
  {
   "cell_type": "markdown",
   "metadata": {},
   "source": [
    "## Plot the minimum on your graph\n",
    "Replot the RSS cost curve as above. Add a red dot for the minimum of this graph using the solution from your gradient descent function above."
   ]
  },
  {
   "cell_type": "code",
   "execution_count": 50,
   "metadata": {},
   "outputs": [
    {
     "name": "stdout",
     "output_type": "stream",
     "text": [
      "RSS for -3.0: 3.8851602875095327e+18\n",
      "-------------------------------------------------------\n",
      "RSS for -2.5: 3.0411988364639555e+18\n",
      "-------------------------------------------------------\n",
      "RSS for -2.0: 2.3075523704592783e+18\n",
      "-------------------------------------------------------\n",
      "RSS for -1.5: 1.6842208894955008e+18\n",
      "-------------------------------------------------------\n",
      "RSS for -1.0: 1.171204393572624e+18\n",
      "-------------------------------------------------------\n",
      "RSS for -0.5: 7.685028826906468e+17\n",
      "-------------------------------------------------------\n",
      "RSS for 0.0: 4.7611635684956986e+17\n",
      "-------------------------------------------------------\n",
      "RSS for 0.5: 2.940448160493932e+17\n",
      "-------------------------------------------------------\n",
      "RSS for 1.0: 2.2228826029011658e+17\n",
      "-------------------------------------------------------\n",
      "RSS for 1.5: 2.6084668957174006e+17\n",
      "-------------------------------------------------------\n",
      "RSS for 2.0: 4.0972010389426374e+17\n",
      "-------------------------------------------------------\n",
      "RSS for 2.5: 6.689085032576874e+17\n",
      "-------------------------------------------------------\n",
      "RSS for 3.0: 1.038411887662011e+18\n",
      "-------------------------------------------------------\n",
      "RSS for 3.5: 1.518230257107235e+18\n",
      "-------------------------------------------------------\n",
      "RSS for 4.0: 2.108363611593359e+18\n",
      "-------------------------------------------------------\n",
      "RSS for 4.5: 2.808811951120383e+18\n",
      "-------------------------------------------------------\n",
      "RSS for 5.0: 3.619575275688307e+18\n",
      "-------------------------------------------------------\n"
     ]
    },
    {
     "data": {
      "image/png": "[encoded data removed]",
      "text/plain": [
       "<Figure size 720x576 with 1 Axes>"
      ]
     },
     "metadata": {
      "needs_background": "light"
     },
     "output_type": "display_data"
    }
   ],
   "source": [
    "# Your code here\n",
    "ms = [m/2 for m in range(-6,11,1)]\n",
    "names = [m/2 for m in range(-6,11,1)]\n",
    "colors = sns.color_palette(n_colors = len(ms))\n",
    "plt.figure(figsize=(10, 8))\n",
    "\n",
    "for n, m in enumerate(ms):\n",
    "    \n",
    "    rss_score = rss(m)\n",
    "    print('RSS for {}: {}'.format(names[n], rss_score))\n",
    "    print('-------------------------------------------------------')\n",
    "    lw = 2\n",
    "    plt.scatter(m, rss_score, color=colors[n],\n",
    "             lw=lw, label='RSS Score by slope m: {}'.format(names[n]))\n",
    "\n",
    "rss_score_x = rss(cur_x)\n",
    "\n",
    "plt.scatter(cur_x, rss_score_x, color='red',\n",
    "             lw=lw, label='RSS Score by slope m: {}'.format(names[n]))\n",
    "plt.show()"
   ]
  },
  {
   "cell_type": "markdown",
   "metadata": {},
   "source": [
    "## Summary \n",
    "\n",
    "In this lab, you coded up a gradient descent algorithm from scratch! In the next lab, you'll apply this to logistic regression in order to create a full implementation yourself!"
   ]
  }
 ],
 "metadata": {
  "kernelspec": {
   "display_name": "Python 3",
   "language": "python",
   "name": "python3"
  },
  "language_info": {
   "codemirror_mode": {
    "name": "ipython",
    "version": 3
   },
   "file_extension": ".py",
   "mimetype": "text/x-python",
   "name": "python",
   "nbconvert_exporter": "python",
   "pygments_lexer": "ipython3",
   "version": "3.9.5"
  }
 },
 "nbformat": 4,
 "nbformat_minor": 2
}
